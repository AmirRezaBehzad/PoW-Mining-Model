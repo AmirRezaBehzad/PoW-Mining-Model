{
  "nbformat": 4,
  "nbformat_minor": 0,
  "metadata": {
    "colab": {
      "provenance": [],
      "authorship_tag": "ABX9TyPrNx/lPYVwUBiNr6yT2a8l",
      "include_colab_link": true
    },
    "kernelspec": {
      "name": "python3",
      "display_name": "Python 3"
    },
    "language_info": {
      "name": "python"
    }
  },
  "cells": [
    {
      "cell_type": "markdown",
      "metadata": {
        "id": "view-in-github",
        "colab_type": "text"
      },
      "source": [
        "<a href=\"https://colab.research.google.com/github/AmirRezaBehzad/PoW-Mining-Model/blob/main/PoW_Mining_Model.ipynb\" target=\"_parent\"><img src=\"https://colab.research.google.com/assets/colab-badge.svg\" alt=\"Open In Colab\"/></a>"
      ]
    },
    {
      "cell_type": "code",
      "source": [
        "import hashlib\n",
        "import logging\n",
        "\n",
        "# Constants\n",
        "NOUNCE_LIMIT = 1000000000000000\n",
        "ZEROES = 6  # Number of leading zeroes required in hash\n",
        "\n",
        "# Configure logging\n",
        "logging.basicConfig(level=logging.INFO, format='%(asctime)s - %(levelname)s - %(message)s')\n",
        "\n",
        "def generate_hash(block_number: int, transactions: str, previous_hash: str, nonce: int) -> str:\n",
        "    \"\"\"\n",
        "    Generates a SHA-256 hash for the given block information and nonce.\n",
        "    \"\"\"\n",
        "    base_text = f\"{block_number}{transactions}{previous_hash}{nonce}\"\n",
        "    return hashlib.sha256(base_text.encode()).hexdigest()\n",
        "\n",
        "def is_valid_nonce(hash_try: str) -> bool:\n",
        "    \"\"\"\n",
        "    Checks if the hash has the required number of leading zeroes.\n",
        "    \"\"\"\n",
        "    return hash_try.startswith('0' * ZEROES)\n",
        "\n",
        "def mine_block(block_number: int, transactions: str, previous_hash: str) -> int:\n",
        "    \"\"\"\n",
        "    Tries to find a valid nonce to create a hash with the required number of leading zeroes.\n",
        "    \"\"\"\n",
        "    for nonce in range(NOUNCE_LIMIT):\n",
        "        hash_try = generate_hash(block_number, transactions, previous_hash, nonce)\n",
        "        if is_valid_nonce(hash_try):\n",
        "            logging.info(f\"Found suitable nonce: {nonce}\")\n",
        "            logging.info(f\"Final hash: {hash_try}\")\n",
        "            return nonce, hash_try\n",
        "\n",
        "    logging.warning(\"No suitable nonce found within the limit.\")\n",
        "    return -1, None\n",
        "\n",
        "# Hardcoded inputs for simplicity\n",
        "block_number = 20050\n",
        "transactions = \"sample_txn_123abc\"  # Sample transaction data\n",
        "previous_hash = \"prev_hash_456def\"  # Sample previous block hash\n",
        "\n",
        "# Start mining\n",
        "nonce, final_hash = mine_block(block_number, transactions, previous_hash)\n",
        "if nonce == -1:\n",
        "    print(\"Mining was unsuccessful.\")\n",
        "else:\n",
        "    print(f\"Mining successful! Nonce: {nonce}\")\n",
        "    print(f\"Final hash: {final_hash}\")\n"
      ],
      "metadata": {
        "colab": {
          "base_uri": "https://localhost:8080/"
        },
        "id": "eKdy33ayckNi",
        "outputId": "dae44ea6-c572-4d64-9d6f-b3d548ce3dfb"
      },
      "execution_count": 13,
      "outputs": [
        {
          "output_type": "stream",
          "name": "stdout",
          "text": [
            "Mining successful! Nonce: 5638695\n",
            "Final hash: 0000002d71e0d862e6afa31be0681a33696cfc3c87dd2ba8c47b07e9dacb389a\n"
          ]
        }
      ]
    }
  ]
}